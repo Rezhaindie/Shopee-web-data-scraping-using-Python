{
 "cells": [
  {
   "cell_type": "code",
   "execution_count": 46,
   "metadata": {},
   "outputs": [],
   "source": [
    "import numpy as np\n",
    "import pandas as pd\n",
    "from bs4 import BeautifulSoup\n",
    "from selenium import webdriver\n",
    "from selenium.webdriver.common.keys import Keys\n",
    "from selenium.webdriver.chrome.service import Service\n",
    "from webdriver_manager.chrome import ChromeDriverManager\n",
    "import time\n",
    "import requests\n",
    "import re \n",
    "\n",
    "#opening chrome and execute main link\n",
    "main_link = 'https://shopee.co.id/search?keyword=reed%20diffuser&page={}&sortBy=sales&trackingId=searchhint-1665075252-81365ec0-4597-11ed-8c94-2cea7f8bf76a'\n",
    "path =  'C:/Users/Rezha/.ipython/profile_default/chromedriver.exe'\n",
    "\n",
    "#customize chrome settings\n",
    "options = webdriver.ChromeOptions()\n",
    "options.add_argument('--no-sandbox')\n",
    "#options.add_argument('--headless')\n",
    "options.add_argument('--disable-notifications')\n",
    "options.add_argument('--disable-infobars')\n",
    "\n",
    "#run chrome\n",
    "driver = webdriver.Chrome(service=Service(ChromeDriverManager().install()))\n",
    "\n",
    "name,location,price,sold,link = [],[],[],[],[]\n",
    "\n",
    "#Go to the main link\n",
    "#looping\n",
    "#determine repetition\n",
    "for page in range (0,9):\n",
    "    main_link = 'https://shopee.co.id/search?keyword=reed%20diffuser&page={}&sortBy=sales&trackingId=searchhint-1665075252-81365ec0-4597-11ed-8c94-2cea7f8bf76a'.format(page)\n",
    "    driver.get(main_link)\n",
    "    time.sleep(3)\n",
    "    SCROLL_PAUSE_TIME = 3\n",
    "\n",
    "    # Get scroll height\n",
    "    total_height = int(driver.execute_script(\"return document.body.scrollHeight\"))\n",
    "\n",
    "    for i in range(1, total_height, 2):\n",
    "        driver.execute_script(\"window.scrollTo(0, {});\".format(i))\n",
    "\n",
    "    html = driver.execute_script(\"return document.getElementsByTagName('html')[0].innerHTML\")\n",
    "    soup = BeautifulSoup(html,\"html.parser\")\n",
    "\n",
    "    #product container class\n",
    "    container = soup.find_all('div', class_='col-xs-2-4 shopee-search-item-result__item')\n",
    "    containers = soup.find_all('div', class_='col-xs-2-4 shopee-search-item-result__item')\n",
    "    \n",
    "    #get data from css selector class\n",
    "    product_name = [container.find_all('div', class_='ie3A+n bM+7UW Cve6sh')[0].text for container in containers]\n",
    "    product_location = [container.find_all('div', class_='zGGwiV')[0].text for container in containers]\n",
    "    product_price = [container.find_all('span', class_='ZEgDH9')[0].text for container in containers]\n",
    "    product_sold = [container.find_all('div', class_='ZnrnMl')[0].text for container in containers]\n",
    "    product_link = [container.find_all('a')[0].get('href') for container in containers]\n",
    "\n",
    "    #add data to blank list and repeat\n",
    "    name=name+product_name\n",
    "    location=location+ product_location\n",
    "    price= price+product_price\n",
    "    sold=sold+product_sold\n",
    "    link=link+product_link\n",
    "    \n",
    "# close the automated browser\n"
   ]
  },
  {
   "cell_type": "code",
   "execution_count": 45,
   "metadata": {},
   "outputs": [
    {
     "name": "stdout",
     "output_type": "stream",
     "text": [
      "['/HEAVEN-SCENT-Parfum-Pengharum-Mobil-10-ml-Gantung-Pengharum-Ruangan-Aromaterapi-Inspired-by-Fragrances-i.176157566.7481043889?sp_atk=59ce3292-4c97-459a-9b1d-140a30551003&xptdk=59ce3292-4c97-459a-9b1d-140a30551003', '/HEAVEN-SCENT-Luxury-Reed-Diffuser-100ml-Pengharum-Ruangan-Aromaterapi-Inspired-by-Fragrances-i.176157566.8822167838?sp_atk=89440607-2b37-4a73-bfc8-802692b94673&xptdk=89440607-2b37-4a73-bfc8-802692b94673', '/Essential-oil-SWEET-SLEEP-10ml-NINA-AND-MOMS-AROMATERAPI-DIFFUSER-i.128904310.22408500351?sp_atk=252a17e0-fb10-4f99-95ec-caf207e4749a&xptdk=252a17e0-fb10-4f99-95ec-caf207e4749a', '/-100-ORIGINAL-BONNELS-Diffuser-300ml-Essential-Oil-Diffuser-Aromatherapy-Diffuser-i.137600623.2461589553?sp_atk=ab52598d-534d-4744-8a0f-66b5ebdc2666&xptdk=ab52598d-534d-4744-8a0f-66b5ebdc2666', '/Pristine-Reed-Diffuser-50ml-Hotel-Series-English-Country-Inn-Swiss-Chateau-Maldives-Villa-Japanese-Ryokan-Aromaterapi-Ruangan-Aromatherapy-Home-Scent-Pengharum-Ruangan-i.790082953.21616666314?sp_atk=5d943338-8a9b-4a35-96bc-7249c8911675&xptdk=5d943338-8a9b-4a35-96bc-7249c8911675', '/HEAVEN-SCENT-Stick-Stik-Fiber-Reed-Diffuser-White-Black-Grey-Warna-Putih-Hitam-Abu-i.176157566.3686956024?sp_atk=d3e8d5be-916c-4c0a-b3e3-810efb013076&xptdk=d3e8d5be-916c-4c0a-b3e3-810efb013076', '/Reed-Diffuser-Stick-Fiber-Stick-Bukan-Rotan-Kualitas-Terbaik-i.529970064.13775249774?sp_atk=97bc06ed-3892-450b-a9e0-f6d47b12b12b&xptdk=97bc06ed-3892-450b-a9e0-f6d47b12b12b', '/Reed-Diffuser-Stick-Stik-bahan-FIBER-uk-25cm-x-3mm-Pengharum-Ruangan-Rotan-Rattan-i.259831672.12927442903?sp_atk=802d9722-b990-4790-93fa-f74931dd6cf5&xptdk=802d9722-b990-4790-93fa-f74931dd6cf5', '/Poupeepou-Reed-Diffuser-Aromaterapi-Aesthetic-dan-Refill-Diffuser-Difuser-Aroma-Pengharum-Ruangan-Pewangi-i.4653641.13030541250?sp_atk=6b51f49f-697a-456d-8bbf-4bb63d5f134f&xptdk=6b51f49f-697a-456d-8bbf-4bb63d5f134f', '/STICK-Reed-Diffuser-2-Varian-Warna-Stik-Bukan-Rotan-i.89930077.15866766178?sp_atk=5e20fe3b-3ade-4b8d-b253-b4c0cda0747a&xptdk=5e20fe3b-3ade-4b8d-b253-b4c0cda0747a', '/STICK-Reed-Diffuser-Fiber-Panjang-20cm-Diameter-3mm-i.59310409.12737279358?sp_atk=c4c345ea-7d77-4584-b33e-0c2548859ec1&xptdk=c4c345ea-7d77-4584-b33e-0c2548859ec1', '/Pengharum-Ruangan-Reed-Diffuser-Reed-Diffuser-Regular-Refill-100ml-i.229292282.15549871538?sp_atk=11fc7710-b5ee-42ad-9851-8d01e775970c&xptdk=11fc7710-b5ee-42ad-9851-8d01e775970c', '/PREMIUM-Home-Reed-Diffuser-Fiber-Stick-Hitam-Putih-3mm-x-20cm-humidifier-essential-oil-rattan-rotan-stik-i.300167659.4583080115?sp_atk=bb9e59b6-1320-41c6-aa7b-bdba68cd060d&xptdk=bb9e59b6-1320-41c6-aa7b-bdba68cd060d', '/Y.U.H.O-Diffuser-humidifier-mobil-Portable-pengharum-ruangan-Essential-oil-Difuser-aromatherapy-Reed-hampers-safe-care-Aromatheraphy-pembersih-udara-Pelembab-minyak-aromaterapi-diffuser-oil-parfum-pengharum-uap-ruangan-air-purifier-penyejuk-i.514065738.10636499934?sp_atk=92f100da-e4e9-49f5-aa05-219dc2f01de2&xptdk=92f100da-e4e9-49f5-aa05-219dc2f01de2', '/Fiber-Stick-Reed-Diffuser-Reed-Diffuser-Stick-i.229292282.12576473071?sp_atk=0150fe52-c3e6-4450-a66c-288e35d7576a&xptdk=0150fe52-c3e6-4450-a66c-288e35d7576a', '/STICK-Reed-Diffuser-2-Varian-Warna-Stik-Bukan-Rotan-i.60030905.10764525588?sp_atk=7089c1f9-fe10-4ed6-8ebd-48e0d6e60568&xptdk=7089c1f9-fe10-4ed6-8ebd-48e0d6e60568', \"/Reed-Diffuser-Aromatherapy-Bunga-Difuser-Aroma-Pengharum-Ruangan-Pewangi-Oil-Essential-Reed-Difuser-REED-DIFFUSER-LOVER'S-GRASS-REED-DIFFUSER-REFILL-REED-DIFFUSER-HAMPERS-PENGHARUM-RUANG-AROMATERAPI-i.89930077.14965930571?sp_atk=c1900ec3-ee5a-4e06-bc22-2a44a4f00411&xptdk=c1900ec3-ee5a-4e06-bc22-2a44a4f00411\", '/Stik-Fiber-Reed-Diffuser-Black-Warna-Hitam-dan-Putih-Tipe-Lurus-Bukan-Rotan-i.60043189.12837514133?sp_atk=46890e0f-eb18-4b4c-a727-9e198573a288&xptdk=46890e0f-eb18-4b4c-a727-9e198573a288', '/Reed-Diffuser-Aromatheraphy-Pengharum-Ruangan-Parfum-Ruangan-Pewangi-Ruangan-Hampers-Essential-Oil-Relaxing-i.8350511.8489042022?sp_atk=21e306c0-10d4-443e-ad5c-27b31278f6d0&xptdk=21e306c0-10d4-443e-ad5c-27b31278f6d0', '/Candu-Aroma-Reed-Diffuser-Pengharum-Ruangan-Aromaterapi-Mewah-i.137094664.12427755280?sp_atk=dff00272-1acd-44df-b131-7a384ac9ed4b&xptdk=dff00272-1acd-44df-b131-7a384ac9ed4b', '/OS-Pengharum-Pewangi-Ruangan-Reed-Diffuser-Aromaterapi-Stick-Ruangan-Aromaterapi-Stik-Hiasan-Meja-i.172364016.11204991781?sp_atk=b08d2049-8c74-422d-bd41-b3390fffd391&xptdk=b08d2049-8c74-422d-bd41-b3390fffd391', \"/Reed-Diffuser-Aromatherapy-Bunga-Difuser-Aroma-Pengharum-Ruangan-Pewangi-Oil-Reed-Difuser-REED-DIFFUSER-LOVER'S-GRASS-REED-DIFFUSER-REFILL-REED-DIFFUSER-HAMPERS-PENGHARUM-RUANG-AROMATERAPI-i.60030905.9417219557?sp_atk=aca7e36d-fd9a-45cd-9d99-b010cff6a201&xptdk=aca7e36d-fd9a-45cd-9d99-b010cff6a201\", \"/REED-DIFFUSER-LOVER'S-GRASS-REED-DIFFUSER-REFILL-REED-DIFFUSER-HAMPERS-PENGHARUM-RUANG-AROMATERAPI-i.49253755.4679723105?sp_atk=6f99854f-5400-4dcc-8da6-998d27cea7db&xptdk=6f99854f-5400-4dcc-8da6-998d27cea7db\", '/HEAVEN-SCENT-Luxury-Reed-Diffuser-100ml-Pengharum-Ruangan-Aromaterapi-Inspired-by-Fragrances-i.176157566.8822167838?sp_atk=2964e5fa-139b-4688-a79a-ee1f41c58f32&xptdk=2964e5fa-139b-4688-a79a-ee1f41c58f32', '/Reed-Stick-Fiber-Rotan-Kertas-Ucapan-untuk-Reed-Diffuser-i.137094664.10859165085?sp_atk=b3276c93-6a39-4189-a6f1-a546b3c5ce57&xptdk=b3276c93-6a39-4189-a6f1-a546b3c5ce57', '/Refill-Premium-Aroma-Reed-Difuser-Pengharum-Ruangan-Cair-Harga-Termurah-100ml-Pewangi-i.89930077.16531765992?sp_atk=45212ec3-08d2-45b4-b74a-2d3b519fbf31&xptdk=45212ec3-08d2-45b4-b74a-2d3b519fbf31', '/Reed-Diffuser-Aroma-Terapi-Pengharum-Ruangan-Essential-oil-Aromatherapy-Replenisher-Bunga-Difuser-i.47904654.8217243595?sp_atk=6b90ea86-eb20-4318-b5e8-81d2639b009f&xptdk=6b90ea86-eb20-4318-b5e8-81d2639b009f', '/KKV-Alba-Sol-Reed-Diffuser-Pengharum-Ruangan-45ml-Vanilla-Ice-Cream-Milky-Sugar-Citrus-Clean-Cotton-Tuberose-i.261911729.11568393519?sp_atk=2705a0e1-8a26-42ce-8f3c-4329ef3ca40e&xptdk=2705a0e1-8a26-42ce-8f3c-4329ef3ca40e', '/HEAVEN-SCENT-Refill-Luxury-Reed-Diffuser-100-ml-Pengharum-Ruangan-Aromaterapi-Inspired-by-Fragrance-i.176157566.8950016134?sp_atk=b23f90b8-f2fa-4bb0-b3b4-42d30170177b&xptdk=b23f90b8-f2fa-4bb0-b3b4-42d30170177b', '/Reed-Diffuser-Aromatheraphy-with-Rattan-Sticks-Pengharum-Ruangan-Model-Bunga-DF-REEDFLO-Lemontreeid-i.166412056.19927479704?sp_atk=9678b77d-57a9-4ae3-94d2-226f720858a2&xptdk=9678b77d-57a9-4ae3-94d2-226f720858a2', '/Essential-Oil-Aromatherapy-Diffuser-Pengharum-Ruangan-Fragrance-Oil-Pewangi-Aroma-Ruang-Humidifier-Minyak-Wangi-Pengharum-Ruangan-Humidifier-Reed-Difuser-Uap-i.47904654.2699316357?sp_atk=247ac4f3-c036-44f3-93a7-1914fb0a1c8b&xptdk=247ac4f3-c036-44f3-93a7-1914fb0a1c8b', '/Reed-Stick-Diffuser-Rattan-Stick-Lurus-Aromatherapy-Pengharum-Ruangan-Home-Dekor-Min-10pc-i.152421146.2286807410?sp_atk=04178a5e-4005-41f0-b040-0ba0952e14f9&xptdk=04178a5e-4005-41f0-b040-0ba0952e14f9', '/Pengharum-Ruangan-Aesthetic-Aromatherapy-Stick-Reed-Diffuser-30-ml-i.13486418.14564597683?sp_atk=9dc2b6f8-bdcd-46e5-b03c-ded7a925f8b4&xptdk=9dc2b6f8-bdcd-46e5-b03c-ded7a925f8b4', '/Lameila-Aromaterapi-Reed-Diffuser-Aromatheraphy-Pengharum-Ruangan-Parfum-Ruangan-Essential-Oil-Relaxing-i.97116883.13372190782?sp_atk=ae6805b6-9afd-4844-b970-3716bf5847fe&xptdk=ae6805b6-9afd-4844-b970-3716bf5847fe', '/Stick-Fiber-Reed-Diffuser-Stick-Pengharum-Pewangi-Ruangan-i.8350511.21112905192?sp_atk=65b57256-b217-4a40-bea0-7ec41d411658&xptdk=65b57256-b217-4a40-bea0-7ec41d411658', '/Botol-Reed-Diffuser-50ml-HITAM-TRANSPARAN-Kaca-TEBAL-Aromatherapy-i.259831672.15931926604?sp_atk=93736ee1-7f42-48ce-86cf-992d49ac30a6&xptdk=93736ee1-7f42-48ce-86cf-992d49ac30a6', '/Muno-Folk-Rotan-Fiber-Stick-Diffuser-Reed-Rattan-i.54412628.2505465303?sp_atk=903ebae1-4dcd-4c7f-9e88-67a629e2c7a0&xptdk=903ebae1-4dcd-4c7f-9e88-67a629e2c7a0', '/KKV-Alba-Sol-Reed-Diffuser-Lucky-Water-Nature-Seed-Marine-Ocean-150ml-i.261911729.10868401406?sp_atk=71d7b864-79dd-423b-9c6d-b2b2e4e53905&xptdk=71d7b864-79dd-423b-9c6d-b2b2e4e53905', '/Fiber-Stick-Reed-Diffuser-Hitam-Tipe-Lurus-bukan-rotan-i.215170652.6518000232?sp_atk=d7f580af-4a8b-4e4e-840d-3fe9b405d753&xptdk=d7f580af-4a8b-4e4e-840d-3fe9b405d753', '/Reed-Diffuser-Pengharum-Ruangan-Minyak-Aromaterapi-Aromatherapy-Kamar-Toilet-Device-Parfum-Essential-oil-Stick-50ml-i.442833302.19807292311?sp_atk=b23108d4-89aa-4bd1-b944-dca8e7e8cfa7&xptdk=b23108d4-89aa-4bd1-b944-dca8e7e8cfa7', '/REED-DIFFUSER-SUMMERSPRING-40-ML-i.201203378.11743804839?sp_atk=202d3567-7cc7-4493-b6fd-b5754cdce75f&xptdk=202d3567-7cc7-4493-b6fd-b5754cdce75f', '/Reed-diffuser-50-ml-Slide-box-kado-hampers-Souvenir-Wedding-Pernikahan-Lebaran-Imlek-Natal-i.42416981.13991027959?sp_atk=6b6d85ad-d9ac-4a5f-a08b-45a4d6cd11fa&xptdk=6b6d85ad-d9ac-4a5f-a08b-45a4d6cd11fa', '/Diffuser-stick-Reed-Stick-Rattan-i.517037979.13324148586?sp_atk=d67e412b-4b49-4e76-87c1-e9881ee9e1b0&xptdk=d67e412b-4b49-4e76-87c1-e9881ee9e1b0', '/LA-FORTUNA-REED-DIFFUSER-AROMATHERAPHY-50ml-PEWANGI-PENGHARUM-RUANGAN-PEWANGI-AROMATERAPI-i.307984794.6760475956?sp_atk=4bd2593d-f5aa-40dd-977f-774c0f5cd016&xptdk=4bd2593d-f5aa-40dd-977f-774c0f5cd016', '/Louie-Luxury-Air-Humidifier-Diffuser-Difuser-Disfuser-Aromaterapi-Aromatherapy-Red-Reed-Diffuser-Difuser-Disfuser-Pengharum-Pewangi-Ruangan-Kamar-Mandi-Kamar-Tidur-Toilet-Mobil-Aromaterapi-Aromatherapy-50ml-i.565913004.14067447624?sp_atk=5c082853-6036-482b-a9fe-386f934881cf&xptdk=5c082853-6036-482b-a9fe-386f934881cf', '/Reed-Diffuser-oil-Aromatherapy-Replenisher-Pewangi-Pengharum-Ruangan-Essential-Oil-Aroma-Murah-i.59310409.8417224836?sp_atk=efc57de9-55ae-48c7-aa89-16775ccd8263&xptdk=efc57de9-55ae-48c7-aa89-16775ccd8263', '/-Bisa-COD-Parfum-Ruangan-Pengharum-Ruangan-Aroma-Diffuser-Reed-Rattan-Sticks-50-ml-BUNGA-i.286322916.13830401456?sp_atk=efa23fd5-6cff-4010-9f81-a3256f1fe314&xptdk=efa23fd5-6cff-4010-9f81-a3256f1fe314', '/Bayfresh-Reed-Diffuser-Refill-30ml-Pengharum-Ruangan-i.143249630.12771234518?sp_atk=e7c80039-25f1-494a-8cd3-9653c2961057&xptdk=e7c80039-25f1-494a-8cd3-9653c2961057', '/APEN-Refill-Isi-Ulang-260ML-Untuk-Reed-Diffuser-Pengharum-Ruangan-Pewangi-Essential-Oil-Aromatherapy-RH-22-Barang-Unik-Murah-Lucu-i.180236290.8756353953?sp_atk=3770a4dc-554a-4ef2-b149-83b26403516b&xptdk=3770a4dc-554a-4ef2-b149-83b26403516b', '/CUSTOM-INSERT-BOX-REED-DIFFUSER-PARFUME-i.6998768.16790130164?sp_atk=da14fb56-e356-4ea4-b688-b12f06f8bfe6&xptdk=da14fb56-e356-4ea4-b688-b12f06f8bfe6', '/Candu-Aroma-REFILL-Reed-Diffuser-Pengharum-Ruangan-Aromaterapi-Mewah-i.137094664.10659158351?sp_atk=d8d8ca5a-14b9-4a05-934c-f2be6b1fec10&xptdk=d8d8ca5a-14b9-4a05-934c-f2be6b1fec10', '/ROTAN-DIFFUSER-REED-STICK-RATTAN-i.250416641.5062588126?sp_atk=bfefe5fa-bd52-450d-9c77-40731f603c61&xptdk=bfefe5fa-bd52-450d-9c77-40731f603c61', '/Reed-Diffuser-60-Ml-Aromatherapy-Pewangi-Ruangan-Aroma-Terapi-Ruangan-Cair-Harga-Termurah-Purifier-Aromaterapy-Humidifier-Fragrance-Oil-Diffuser-Original-Murah-Terlaris-Essential-Oil-Diffuser-Purifier-Pendingin-Ruangan-i.89930077.14766251432?sp_atk=9d154f38-57b3-4a0e-852c-86feafc045a0&xptdk=9d154f38-57b3-4a0e-852c-86feafc045a0', '/REFILL-Reed-Diffuser-A-Much-Better-Living-Room-i.379946657.17556562931?sp_atk=d0e90bf2-2d06-4e1f-a5fe-a89fa13b562e&xptdk=d0e90bf2-2d06-4e1f-a5fe-a89fa13b562e', '/Reed-Diffuser-Device-Pengharum-Ruangan-Parfum-Essential-oil-Stick-50ml-i.914988.4427422274?sp_atk=ce5b2024-3c60-42bf-849b-9db1d3e945f3&xptdk=ce5b2024-3c60-42bf-849b-9db1d3e945f3', '/Pengharum-Ruangan-Reed-Diffuser-Reed-Diffuser-Regular-Refill-100ml-i.229292282.15549871538?sp_atk=4b930140-d9d7-46c1-840c-7ae649ceaf45&xptdk=4b930140-d9d7-46c1-840c-7ae649ceaf45', '/The-Bali-Escapade-REED-DIFFUSER-100ml-pengharum-kamar-ruangan-sniff-sniff-i.22042964.5138472542?sp_atk=5728d0d4-d83b-4fe2-8ad8-bd9d6595359d&xptdk=5728d0d4-d83b-4fe2-8ad8-bd9d6595359d', '/Moi-Humidifier-Diffuser-Air-Purifier-Aromaterapy-Essential-oil-Difuser-500ML-Remote-i.735992775.10591679706?sp_atk=3ce4f8ec-60a4-4ec7-9361-8ba9df6b695e&xptdk=3ce4f8ec-60a4-4ec7-9361-8ba9df6b695e', '/MIISOO-Humidifier-Diffuser-Air-Purifier-Aromaterapy-Essential-oil-Difuser-500ML-Aroma-Purifier-LED-Remote-Diffuser-HOKO-By-MIISOO-i.294096817.17555597429?sp_atk=a918a0b5-9433-4057-9849-bce9b569eed2&xptdk=a918a0b5-9433-4057-9849-bce9b569eed2', '/SUKACITA-Gift-Hampers-Reed-Diffuser-Scented-Candle-Room-Fabric-Freshener-Hand-Sanitizer-Hand-Soap-Gift-Box-Holiday-CNY-Hampers-Kado-Ulang-Tahun-Kado-Wisuda-Kado-Pernikahan-i.23071579.14847178503?sp_atk=421f24eb-8832-45ff-98ee-4de39b33682b&xptdk=421f24eb-8832-45ff-98ee-4de39b33682b']\n"
     ]
    }
   ],
   "source": [
    "print ((product_link))"
   ]
  },
  {
   "cell_type": "code",
   "execution_count": 47,
   "metadata": {},
   "outputs": [
    {
     "name": "stdout",
     "output_type": "stream",
     "text": [
      "20 20 20 20\n"
     ]
    }
   ],
   "source": [
    "print (len(product_name), len(product_location), len(product_price), len(product_sold))"
   ]
  },
  {
   "cell_type": "code",
   "execution_count": 35,
   "metadata": {},
   "outputs": [],
   "source": [
    "#savedata \n",
    "listCols =  ['product_name','product_location','product_price','product_price','product_link']\n",
    "dict_data =dict(zip(\n",
    "            listCols,\n",
    "                (product_name,\n",
    "                product_location,\n",
    "                product_price,\n",
    "                product_sold,product_link)\n",
    "))"
   ]
  },
  {
   "cell_type": "code",
   "execution_count": 36,
   "metadata": {},
   "outputs": [],
   "source": [
    "import json\n",
    "with open('Diffuser.json','w') as fp:\n",
    "    json.dump(dict_data, fp)"
   ]
  },
  {
   "cell_type": "code",
   "execution_count": 43,
   "metadata": {},
   "outputs": [
    {
     "data": {
      "text/plain": [
       "0    /HEAVEN-SCENT-Parfum-Pengharum-Mobil-10-ml-Gan...\n",
       "1    /HEAVEN-SCENT-Luxury-Reed-Diffuser-100ml-Pengh...\n",
       "2    /CAPSEN-Magnetic-Diffuser-Clip-Essential-Oil-A...\n",
       "3    /Essential-oil-SWEET-SLEEP-10ml-NINA-AND-MOMS-...\n",
       "4    /Anti-Bacterial-Room-Linen-Spray-200ml-250ml-P...\n",
       "Name: product_link, dtype: object"
      ]
     },
     "execution_count": 43,
     "metadata": {},
     "output_type": "execute_result"
    }
   ],
   "source": [
    "df = pd.DataFrame(data = dict_data)\n",
    "df['product_link'].head(5)"
   ]
  },
  {
   "cell_type": "code",
   "execution_count": null,
   "metadata": {},
   "outputs": [],
   "source": [
    "import numpy as np\n",
    "import pandas as pd\n",
    "from bs4 import BeautifulSoup\n",
    "from selenium import webdriver\n",
    "from selenium.webdriver.common.keys import Keys\n",
    "from selenium.webdriver.chrome.service import Service\n",
    "from webdriver_manager.chrome import ChromeDriverManager\n",
    "import time\n",
    "import requests\n",
    "import re \n",
    "\n",
    "#opening chrome and execute main link\n",
    "main_link = 'https://shopee.co.id/search?keyword=reed%20diffuser&page={}&sortBy=sales&trackingId=searchhint-1665075252-81365ec0-4597-11ed-8c94-2cea7f8bf76a'\n",
    "path =  'C:/Users/Rezha/.ipython/profile_default/chromedriver.exe'\n",
    "\n",
    "#customize chrome settings\n",
    "options = webdriver.ChromeOptions()\n",
    "options.add_argument('--no-sandbox')\n",
    "#options.add_argument('--headless')\n",
    "options.add_argument('--disable-notifications')\n",
    "options.add_argument('--disable-infobars')\n",
    "\n",
    "#run chrome\n",
    "driver = webdriver.Chrome(service=Service(ChromeDriverManager().install()))\n",
    "\n",
    "name,location,price,sold,link = [],[],[],[],[]\n",
    "\n",
    "#Go to the main link\n",
    "#looping\n",
    "#determine repetition\n",
    "for page in range (0,9):\n",
    "    main_link = 'https://shopee.co.id/search?keyword=reed%20diffuser&page={}&sortBy=sales&trackingId=searchhint-1665075252-81365ec0-4597-11ed-8c94-2cea7f8bf76a'.format(page)\n",
    "    driver.get(main_link)\n",
    "    time.sleep(3)\n",
    "    SCROLL_PAUSE_TIME = 3\n",
    "\n",
    "    # Get scroll height\n",
    "    total_height = int(driver.execute_script(\"return document.body.scrollHeight\"))\n",
    "\n",
    "    for i in range(1, total_height, 2):\n",
    "        driver.execute_script(\"window.scrollTo(0, {});\".format(i))\n",
    "\n",
    "    html = driver.execute_script(\"return document.getElementsByTagName('html')[0].innerHTML\")\n",
    "    soup = BeautifulSoup(html,\"html.parser\")\n",
    "\n",
    "    #product container class\n",
    "    container = soup.find_all('div', class_='col-xs-2-4 shopee-search-item-result__item')\n",
    "    containers = soup.find_all('div', class_='col-xs-2-4 shopee-search-item-result__item')\n",
    "    \n",
    "    #get data from css selector class\n",
    "    product_name = [container.find_all('div', class_='ie3A+n bM+7UW Cve6sh')[0].text for container in containers]\n",
    "    product_location = [container.find_all('div', class_='zGGwiV')[0].text for container in containers]\n",
    "    product_price = [container.find_all('span', class_='ZEgDH9')[0].text for container in containers]\n",
    "    product_sold = [container.find_all('div', class_='ZnrnMl')[0].text for container in containers]\n",
    "    product_link = [container.find_all('a')[0].get('href') for container in containers]\n",
    "\n",
    "    #add data to blank list and repeat\n",
    "    name=name+product_name\n",
    "    location=location+ product_location\n",
    "    price= price+product_price\n",
    "    sold=sold+product_sold\n",
    "    link=link+product_link\n",
    "    \n",
    "    \n",
    "# close the automated browser\n",
    "driver.close()"
   ]
  },
  {
   "cell_type": "code",
   "execution_count": 139,
   "metadata": {},
   "outputs": [],
   "source": [
    "#savedata \n",
    "listCols =  ['name','location','price','sold','link']\n",
    "dict_data =dict(zip(\n",
    "            listCols,\n",
    "                (name,\n",
    "                location,\n",
    "                price,\n",
    "                sold ,link)\n",
    "))"
   ]
  },
  {
   "cell_type": "code",
   "execution_count": 58,
   "metadata": {},
   "outputs": [],
   "source": [
    "\n",
    "import json\n",
    "with open('Diffuser.json','w') as fp:\n",
    "    json.dump(dict_data, fp)"
   ]
  },
  {
   "cell_type": "code",
   "execution_count": 140,
   "metadata": {},
   "outputs": [
    {
     "data": {
      "text/html": [
       "<div>\n",
       "<style scoped>\n",
       "    .dataframe tbody tr th:only-of-type {\n",
       "        vertical-align: middle;\n",
       "    }\n",
       "\n",
       "    .dataframe tbody tr th {\n",
       "        vertical-align: top;\n",
       "    }\n",
       "\n",
       "    .dataframe thead th {\n",
       "        text-align: right;\n",
       "    }\n",
       "</style>\n",
       "<table border=\"1\" class=\"dataframe\">\n",
       "  <thead>\n",
       "    <tr style=\"text-align: right;\">\n",
       "      <th></th>\n",
       "      <th>name</th>\n",
       "      <th>location</th>\n",
       "      <th>price</th>\n",
       "      <th>sold</th>\n",
       "      <th>link</th>\n",
       "    </tr>\n",
       "  </thead>\n",
       "  <tbody>\n",
       "    <tr>\n",
       "      <th>0</th>\n",
       "      <td>HEAVEN SCENT Parfum Pengharum Mobil 10 ml Gant...</td>\n",
       "      <td>KOTA SURABAYA</td>\n",
       "      <td>14.935</td>\n",
       "      <td>1RB+ Terjual/ Bulan</td>\n",
       "      <td>shopee.co.id/HEAVEN-SCENT-Parfum-Pengharum-Mob...</td>\n",
       "    </tr>\n",
       "    <tr>\n",
       "      <th>1</th>\n",
       "      <td>Pristine Reed Diffuser 50ml - Hotel Series - E...</td>\n",
       "      <td>KOTA JAKARTA BARAT</td>\n",
       "      <td>144.000</td>\n",
       "      <td>16 Terjual/ Bulan</td>\n",
       "      <td>shopee.co.id/Pristine-Reed-Diffuser-50ml-Hotel...</td>\n",
       "    </tr>\n",
       "    <tr>\n",
       "      <th>2</th>\n",
       "      <td>Pengharum Ruangan/Reed Diffuser/ Reed Diffuser...</td>\n",
       "      <td>KOTA JAKARTA BARAT</td>\n",
       "      <td>6.599</td>\n",
       "      <td>1RB+ Terjual/ Bulan</td>\n",
       "      <td>shopee.co.id/Pengharum-Ruangan-Reed-Diffuser-R...</td>\n",
       "    </tr>\n",
       "    <tr>\n",
       "      <th>3</th>\n",
       "      <td>Y.U.H.O Diffuser humidifier mobil Portable pen...</td>\n",
       "      <td>KAB. TANGERANG</td>\n",
       "      <td>690</td>\n",
       "      <td>1RB+ Terjual/ Bulan</td>\n",
       "      <td>shopee.co.id/Y.U.H.O-Diffuser-humidifier-mobil...</td>\n",
       "    </tr>\n",
       "    <tr>\n",
       "      <th>4</th>\n",
       "      <td>The Bali Escapade - REED DIFFUSER 100ml - peng...</td>\n",
       "      <td>KOTA JAKARTA BARAT</td>\n",
       "      <td>157.500</td>\n",
       "      <td>158 Terjual/ Bulan</td>\n",
       "      <td>shopee.co.id/The-Bali-Escapade-REED-DIFFUSER-1...</td>\n",
       "    </tr>\n",
       "  </tbody>\n",
       "</table>\n",
       "</div>"
      ],
      "text/plain": [
       "                                                name            location  \\\n",
       "0  HEAVEN SCENT Parfum Pengharum Mobil 10 ml Gant...       KOTA SURABAYA   \n",
       "1  Pristine Reed Diffuser 50ml - Hotel Series - E...  KOTA JAKARTA BARAT   \n",
       "2  Pengharum Ruangan/Reed Diffuser/ Reed Diffuser...  KOTA JAKARTA BARAT   \n",
       "3  Y.U.H.O Diffuser humidifier mobil Portable pen...      KAB. TANGERANG   \n",
       "4  The Bali Escapade - REED DIFFUSER 100ml - peng...  KOTA JAKARTA BARAT   \n",
       "\n",
       "     price                 sold  \\\n",
       "0   14.935  1RB+ Terjual/ Bulan   \n",
       "1  144.000    16 Terjual/ Bulan   \n",
       "2    6.599  1RB+ Terjual/ Bulan   \n",
       "3      690  1RB+ Terjual/ Bulan   \n",
       "4  157.500   158 Terjual/ Bulan   \n",
       "\n",
       "                                                link  \n",
       "0  shopee.co.id/HEAVEN-SCENT-Parfum-Pengharum-Mob...  \n",
       "1  shopee.co.id/Pristine-Reed-Diffuser-50ml-Hotel...  \n",
       "2  shopee.co.id/Pengharum-Ruangan-Reed-Diffuser-R...  \n",
       "3  shopee.co.id/Y.U.H.O-Diffuser-humidifier-mobil...  \n",
       "4  shopee.co.id/The-Bali-Escapade-REED-DIFFUSER-1...  "
      ]
     },
     "execution_count": 140,
     "metadata": {},
     "output_type": "execute_result"
    }
   ],
   "source": [
    "df = pd.DataFrame(data = dict_data)\n",
    "df['link'] = df['link'].apply(lambda x: f\"shopee.co.id{x}\")\n",
    "df.head(5)\n"
   ]
  },
  {
   "cell_type": "code",
   "execution_count": 67,
   "metadata": {},
   "outputs": [],
   "source": [
    "import openpyxl\n",
    "df.to_excel('diffuser.xlsx')"
   ]
  },
  {
   "cell_type": "code",
   "execution_count": 118,
   "metadata": {},
   "outputs": [],
   "source": [
    "df = pd.read_excel('diffuser_raw_data.xlsx')"
   ]
  },
  {
   "cell_type": "code",
   "execution_count": 141,
   "metadata": {},
   "outputs": [],
   "source": [
    "df_cleaned = df.copy()"
   ]
  },
  {
   "cell_type": "code",
   "execution_count": 163,
   "metadata": {},
   "outputs": [
    {
     "data": {
      "text/html": [
       "<div>\n",
       "<style scoped>\n",
       "    .dataframe tbody tr th:only-of-type {\n",
       "        vertical-align: middle;\n",
       "    }\n",
       "\n",
       "    .dataframe tbody tr th {\n",
       "        vertical-align: top;\n",
       "    }\n",
       "\n",
       "    .dataframe thead th {\n",
       "        text-align: right;\n",
       "    }\n",
       "</style>\n",
       "<table border=\"1\" class=\"dataframe\">\n",
       "  <thead>\n",
       "    <tr style=\"text-align: right;\">\n",
       "      <th></th>\n",
       "      <th>name</th>\n",
       "      <th>location</th>\n",
       "      <th>price</th>\n",
       "      <th>sold</th>\n",
       "      <th>link</th>\n",
       "    </tr>\n",
       "  </thead>\n",
       "  <tbody>\n",
       "    <tr>\n",
       "      <th>494</th>\n",
       "      <td>Reed Diffuser Parnel Red Berries</td>\n",
       "      <td>KOTA JAKARTA BARAT</td>\n",
       "      <td>275000</td>\n",
       "      <td>0</td>\n",
       "      <td>shopee.co.id/Reed-Diffuser-Parnel-Red-Berries-...</td>\n",
       "    </tr>\n",
       "    <tr>\n",
       "      <th>495</th>\n",
       "      <td>REED DIFFUSER HOTEL SERIES 50ML</td>\n",
       "      <td>KOTA SURABAYA</td>\n",
       "      <td>26900</td>\n",
       "      <td>0</td>\n",
       "      <td>shopee.co.id/REED-DIFFUSER-HOTEL-SERIES-50ML-i...</td>\n",
       "    </tr>\n",
       "    <tr>\n",
       "      <th>496</th>\n",
       "      <td>Bayfresh reed diffuser Reg</td>\n",
       "      <td>KOTA DEPOK</td>\n",
       "      <td>45000</td>\n",
       "      <td>0</td>\n",
       "      <td>shopee.co.id/Bayfresh-reed-diffuser-Reg-i.1023...</td>\n",
       "    </tr>\n",
       "    <tr>\n",
       "      <th>497</th>\n",
       "      <td>Veda Reed Diffuser Pengharum Pewangi Parfum Ru...</td>\n",
       "      <td>KOTA TANGERANG</td>\n",
       "      <td>125000</td>\n",
       "      <td>0</td>\n",
       "      <td>shopee.co.id/Veda-Reed-Diffuser-Pengharum-Pewa...</td>\n",
       "    </tr>\n",
       "    <tr>\n",
       "      <th>498</th>\n",
       "      <td>Reed Diffuser Exclusive Tanpa Listrik dan Api ...</td>\n",
       "      <td>KOTA SURABAYA</td>\n",
       "      <td>55000</td>\n",
       "      <td>0</td>\n",
       "      <td>shopee.co.id/Reed-Diffuser-Exclusive-Tanpa-Lis...</td>\n",
       "    </tr>\n",
       "  </tbody>\n",
       "</table>\n",
       "</div>"
      ],
      "text/plain": [
       "                                                  name            location  \\\n",
       "494                   Reed Diffuser Parnel Red Berries  KOTA JAKARTA BARAT   \n",
       "495                    REED DIFFUSER HOTEL SERIES 50ML       KOTA SURABAYA   \n",
       "496                         Bayfresh reed diffuser Reg          KOTA DEPOK   \n",
       "497  Veda Reed Diffuser Pengharum Pewangi Parfum Ru...      KOTA TANGERANG   \n",
       "498  Reed Diffuser Exclusive Tanpa Listrik dan Api ...       KOTA SURABAYA   \n",
       "\n",
       "      price  sold                                               link  \n",
       "494  275000     0  shopee.co.id/Reed-Diffuser-Parnel-Red-Berries-...  \n",
       "495   26900     0  shopee.co.id/REED-DIFFUSER-HOTEL-SERIES-50ML-i...  \n",
       "496   45000     0  shopee.co.id/Bayfresh-reed-diffuser-Reg-i.1023...  \n",
       "497  125000     0  shopee.co.id/Veda-Reed-Diffuser-Pengharum-Pewa...  \n",
       "498   55000     0  shopee.co.id/Reed-Diffuser-Exclusive-Tanpa-Lis...  "
      ]
     },
     "execution_count": 163,
     "metadata": {},
     "output_type": "execute_result"
    }
   ],
   "source": [
    "df_cleaned.tail(5)"
   ]
  },
  {
   "cell_type": "code",
   "execution_count": 152,
   "metadata": {},
   "outputs": [
    {
     "name": "stderr",
     "output_type": "stream",
     "text": [
      "C:\\Users\\Rezha\\AppData\\Local\\Temp\\ipykernel_43304\\276203218.py:3: FutureWarning: The default value of regex will change from True to False in a future version.\n",
      "  df_cleaned['price'] = df_cleaned['price'].str.replace(r'[^0-9]+', '')\n",
      "C:\\Users\\Rezha\\AppData\\Local\\Temp\\ipykernel_43304\\276203218.py:4: FutureWarning: The default value of regex will change from True to False in a future version.\n",
      "  df_cleaned['sold'] = df_cleaned['sold'].str.replace(r'[^0-9]+', '')\n"
     ]
    }
   ],
   "source": [
    "df_cleaned.loc[df_cleaned['sold'].str.contains('1RB+', case=False), 'sold'] = '1000'\n",
    "df_cleaned['price'] = df_cleaned['price'].astype(str).astype(str)\n",
    "df_cleaned['price'] = df_cleaned['price'].str.replace(r'[^0-9]+', '')\n",
    "df_cleaned['sold'] = df_cleaned['sold'].str.replace(r'[^0-9]+', '')"
   ]
  },
  {
   "cell_type": "code",
   "execution_count": 130,
   "metadata": {},
   "outputs": [],
   "source": [
    "df_cleaned['price'] = df_cleaned['price'].astype(str).astype(str)\n",
    "##df_cleaned['price'] = pd.to_numeric(df_cleaned['price'], errors='coerce').astype('Int64')\n",
    "#df_cleaned['price'] = df_cleaned['price'].str.replace(r'[^0-9]+', '')"
   ]
  },
  {
   "cell_type": "code",
   "execution_count": 156,
   "metadata": {},
   "outputs": [],
   "source": [
    "\n",
    "df_cleaned['sold'] = pd.to_numeric(df_cleaned['sold'], errors='coerce').astype('Int64')\n",
    "df_cleaned['price'] = pd.to_numeric(df_cleaned['price'], errors='coerce').astype('Int64')\n",
    "\n",
    "df_cleaned['sold'] = df_cleaned['sold'].fillna(0)\n"
   ]
  },
  {
   "cell_type": "code",
   "execution_count": 161,
   "metadata": {},
   "outputs": [],
   "source": [
    "df_cleaned['name'] = df_cleaned['name'].astype(str)\n",
    "df_cleaned['location'] = df_cleaned['location'].astype(str)\n",
    "df_cleaned['link'] = df_cleaned['link'].astype(str)"
   ]
  },
  {
   "cell_type": "code",
   "execution_count": 182,
   "metadata": {},
   "outputs": [],
   "source": [
    "\n",
    "df_cleaned = df_cleaned[ df_cleaned['name'].str.contains( \"Humidifier\" )==False ]\n",
    "df_cleaned"
   ]
  },
  {
   "cell_type": "code",
   "execution_count": 188,
   "metadata": {},
   "outputs": [
    {
     "data": {
      "text/html": [
       "<div>\n",
       "<style scoped>\n",
       "    .dataframe tbody tr th:only-of-type {\n",
       "        vertical-align: middle;\n",
       "    }\n",
       "\n",
       "    .dataframe tbody tr th {\n",
       "        vertical-align: top;\n",
       "    }\n",
       "\n",
       "    .dataframe thead th {\n",
       "        text-align: right;\n",
       "    }\n",
       "</style>\n",
       "<table border=\"1\" class=\"dataframe\">\n",
       "  <thead>\n",
       "    <tr style=\"text-align: right;\">\n",
       "      <th></th>\n",
       "      <th>name</th>\n",
       "      <th>location</th>\n",
       "      <th>price</th>\n",
       "      <th>sold</th>\n",
       "      <th>link</th>\n",
       "    </tr>\n",
       "  </thead>\n",
       "  <tbody>\n",
       "    <tr>\n",
       "      <th>1</th>\n",
       "      <td>Pristine Reed Diffuser 50ml - Hotel Series - E...</td>\n",
       "      <td>KOTA JAKARTA BARAT</td>\n",
       "      <td>144000</td>\n",
       "      <td>16</td>\n",
       "      <td>shopee.co.id/Pristine-Reed-Diffuser-50ml-Hotel...</td>\n",
       "    </tr>\n",
       "    <tr>\n",
       "      <th>4</th>\n",
       "      <td>The Bali Escapade - REED DIFFUSER 100ml - peng...</td>\n",
       "      <td>KOTA JAKARTA BARAT</td>\n",
       "      <td>157500</td>\n",
       "      <td>158</td>\n",
       "      <td>shopee.co.id/The-Bali-Escapade-REED-DIFFUSER-1...</td>\n",
       "    </tr>\n",
       "    <tr>\n",
       "      <th>21</th>\n",
       "      <td>LA FORTUNA - REED DIFFUSER AROMATHERAPHY 50ml ...</td>\n",
       "      <td>KOTA JAKARTA BARAT</td>\n",
       "      <td>119000</td>\n",
       "      <td>392</td>\n",
       "      <td>shopee.co.id/LA-FORTUNA-REED-DIFFUSER-AROMATHE...</td>\n",
       "    </tr>\n",
       "    <tr>\n",
       "      <th>35</th>\n",
       "      <td>The Bali Escapade - REED DIFFUSER 100ml - peng...</td>\n",
       "      <td>KOTA JAKARTA BARAT</td>\n",
       "      <td>157500</td>\n",
       "      <td>158</td>\n",
       "      <td>shopee.co.id/The-Bali-Escapade-REED-DIFFUSER-1...</td>\n",
       "    </tr>\n",
       "    <tr>\n",
       "      <th>43</th>\n",
       "      <td>Le Havre x Scent and Light- Favorite Set Gift/...</td>\n",
       "      <td>KOTA TANGERANG SELATAN</td>\n",
       "      <td>175000</td>\n",
       "      <td>123</td>\n",
       "      <td>shopee.co.id/Le-Havre-x-Scent-and-Light-Favori...</td>\n",
       "    </tr>\n",
       "    <tr>\n",
       "      <th>...</th>\n",
       "      <td>...</td>\n",
       "      <td>...</td>\n",
       "      <td>...</td>\n",
       "      <td>...</td>\n",
       "      <td>...</td>\n",
       "    </tr>\n",
       "    <tr>\n",
       "      <th>487</th>\n",
       "      <td>Premium Reed Diffuser Botanica Fragrance Japan...</td>\n",
       "      <td>KAB. TANGERANG</td>\n",
       "      <td>423632</td>\n",
       "      <td>0</td>\n",
       "      <td>shopee.co.id/Premium-Reed-Diffuser-Botanica-Fr...</td>\n",
       "    </tr>\n",
       "    <tr>\n",
       "      <th>492</th>\n",
       "      <td>Soleil Home - REED DIFFUSER - BOTANICAL SERIES...</td>\n",
       "      <td>KAB. BANDUNG BARAT</td>\n",
       "      <td>189000</td>\n",
       "      <td>0</td>\n",
       "      <td>shopee.co.id/Soleil-Home-REED-DIFFUSER-BOTANIC...</td>\n",
       "    </tr>\n",
       "    <tr>\n",
       "      <th>493</th>\n",
       "      <td>Le Reve Rose Reed Diffuser 50ml</td>\n",
       "      <td>KOTA SURABAYA</td>\n",
       "      <td>385000</td>\n",
       "      <td>0</td>\n",
       "      <td>shopee.co.id/Le-Reve-Rose-Reed-Diffuser-50ml-i...</td>\n",
       "    </tr>\n",
       "    <tr>\n",
       "      <th>494</th>\n",
       "      <td>Reed Diffuser Parnel Red Berries</td>\n",
       "      <td>KOTA JAKARTA BARAT</td>\n",
       "      <td>275000</td>\n",
       "      <td>0</td>\n",
       "      <td>shopee.co.id/Reed-Diffuser-Parnel-Red-Berries-...</td>\n",
       "    </tr>\n",
       "    <tr>\n",
       "      <th>497</th>\n",
       "      <td>Veda Reed Diffuser Pengharum Pewangi Parfum Ru...</td>\n",
       "      <td>KOTA TANGERANG</td>\n",
       "      <td>125000</td>\n",
       "      <td>0</td>\n",
       "      <td>shopee.co.id/Veda-Reed-Diffuser-Pengharum-Pewa...</td>\n",
       "    </tr>\n",
       "  </tbody>\n",
       "</table>\n",
       "<p>178 rows × 5 columns</p>\n",
       "</div>"
      ],
      "text/plain": [
       "                                                  name  \\\n",
       "1    Pristine Reed Diffuser 50ml - Hotel Series - E...   \n",
       "4    The Bali Escapade - REED DIFFUSER 100ml - peng...   \n",
       "21   LA FORTUNA - REED DIFFUSER AROMATHERAPHY 50ml ...   \n",
       "35   The Bali Escapade - REED DIFFUSER 100ml - peng...   \n",
       "43   Le Havre x Scent and Light- Favorite Set Gift/...   \n",
       "..                                                 ...   \n",
       "487  Premium Reed Diffuser Botanica Fragrance Japan...   \n",
       "492  Soleil Home - REED DIFFUSER - BOTANICAL SERIES...   \n",
       "493                    Le Reve Rose Reed Diffuser 50ml   \n",
       "494                   Reed Diffuser Parnel Red Berries   \n",
       "497  Veda Reed Diffuser Pengharum Pewangi Parfum Ru...   \n",
       "\n",
       "                   location   price  sold  \\\n",
       "1        KOTA JAKARTA BARAT  144000    16   \n",
       "4        KOTA JAKARTA BARAT  157500   158   \n",
       "21       KOTA JAKARTA BARAT  119000   392   \n",
       "35       KOTA JAKARTA BARAT  157500   158   \n",
       "43   KOTA TANGERANG SELATAN  175000   123   \n",
       "..                      ...     ...   ...   \n",
       "487          KAB. TANGERANG  423632     0   \n",
       "492      KAB. BANDUNG BARAT  189000     0   \n",
       "493           KOTA SURABAYA  385000     0   \n",
       "494      KOTA JAKARTA BARAT  275000     0   \n",
       "497          KOTA TANGERANG  125000     0   \n",
       "\n",
       "                                                  link  \n",
       "1    shopee.co.id/Pristine-Reed-Diffuser-50ml-Hotel...  \n",
       "4    shopee.co.id/The-Bali-Escapade-REED-DIFFUSER-1...  \n",
       "21   shopee.co.id/LA-FORTUNA-REED-DIFFUSER-AROMATHE...  \n",
       "35   shopee.co.id/The-Bali-Escapade-REED-DIFFUSER-1...  \n",
       "43   shopee.co.id/Le-Havre-x-Scent-and-Light-Favori...  \n",
       "..                                                 ...  \n",
       "487  shopee.co.id/Premium-Reed-Diffuser-Botanica-Fr...  \n",
       "492  shopee.co.id/Soleil-Home-REED-DIFFUSER-BOTANIC...  \n",
       "493  shopee.co.id/Le-Reve-Rose-Reed-Diffuser-50ml-i...  \n",
       "494  shopee.co.id/Reed-Diffuser-Parnel-Red-Berries-...  \n",
       "497  shopee.co.id/Veda-Reed-Diffuser-Pengharum-Pewa...  \n",
       "\n",
       "[178 rows x 5 columns]"
      ]
     },
     "execution_count": 188,
     "metadata": {},
     "output_type": "execute_result"
    }
   ],
   "source": [
    "df_50 = df_cleaned.loc[df_cleaned['price'] >= 50000]\n",
    "df_100 = df_cleaned.loc[df_cleaned['price'] >= 100000]\n",
    "df_100"
   ]
  },
  {
   "cell_type": "code",
   "execution_count": 190,
   "metadata": {},
   "outputs": [
    {
     "ename": "",
     "evalue": "",
     "output_type": "error",
     "traceback": [
      "\u001b[1;31mThe Kernel crashed while executing code in the the current cell or a previous cell. Please review the code in the cell(s) to identify a possible cause of the failure. Click <a href='https://aka.ms/vscodeJupyterKernelCrash'>here</a> for more info. View Jupyter <a href='command:jupyter.viewOutput'>log</a> for further details."
     ]
    }
   ],
   "source": [
    "import openpyxl\n",
    "df_cleaned.to_excel('Shopee_diffuser_cleaned.xlsx')\n",
    "df_50.to_excel('Shopee_diffuser_filter50.xlsx')\n",
    "df_100.to_excel('Shopee_diffuser_filter100.xlsx')"
   ]
  },
  {
   "cell_type": "code",
   "execution_count": 162,
   "metadata": {},
   "outputs": [
    {
     "data": {
      "text/plain": [
       "name        object\n",
       "location    object\n",
       "price        Int64\n",
       "sold         Int64\n",
       "link        object\n",
       "dtype: object"
      ]
     },
     "execution_count": 162,
     "metadata": {},
     "output_type": "execute_result"
    }
   ],
   "source": [
    "df_cleaned.dtypes"
   ]
  },
  {
   "cell_type": "code",
   "execution_count": null,
   "metadata": {},
   "outputs": [],
   "source": []
  }
 ],
 "metadata": {
  "kernelspec": {
   "display_name": "Python 3.10.7 64-bit (microsoft store)",
   "language": "python",
   "name": "python3"
  },
  "language_info": {
   "codemirror_mode": {
    "name": "ipython",
    "version": 3
   },
   "file_extension": ".py",
   "mimetype": "text/x-python",
   "name": "python",
   "nbconvert_exporter": "python",
   "pygments_lexer": "ipython3",
   "version": "3.10.8"
  },
  "orig_nbformat": 4,
  "vscode": {
   "interpreter": {
    "hash": "5672e808c9138e4625a5b2b0b4003ff962fcddf9c44826a7e5b603ef902d8517"
   }
  }
 },
 "nbformat": 4,
 "nbformat_minor": 2
}
